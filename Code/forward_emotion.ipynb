{
 "cells": [
  {
   "cell_type": "code",
   "execution_count": 1,
   "id": "07865541-e2be-4bde-8f0d-6d9b18edee4f",
   "metadata": {
    "slideshow": {
     "slide_type": "skip"
    },
    "tags": []
   },
   "outputs": [],
   "source": [
    "import numpy as np\n",
    "from matplotlib import pyplot as plt\n",
    "from matplotlib.pyplot import plot, scatter\n"
   ]
  },
  {
   "cell_type": "code",
   "execution_count": 2,
   "id": "b0548d9b-cd9e-488d-ace7-bbaea12f5d10",
   "metadata": {
    "slideshow": {
     "slide_type": "skip"
    },
    "tags": []
   },
   "outputs": [],
   "source": [
    "g = 9.81\n",
    "x0 = 0\n",
    "v0 = 2.6"
   ]
  },
  {
   "cell_type": "markdown",
   "id": "e9d8ccf7",
   "metadata": {
    "slideshow": {
     "slide_type": "slide"
    }
   },
   "source": [
    "## Settings"
   ]
  },
  {
   "cell_type": "code",
   "execution_count": 3,
   "id": "0c5199c9-a5ef-46e1-833f-4f9502909ce6",
   "metadata": {
    "slideshow": {
     "slide_type": "-"
    },
    "tags": []
   },
   "outputs": [],
   "source": [
    "t_max = 0.5 # eigentlich 5.5\n",
    "n =  5\n",
    "dt = t_max/n\n",
    "\n",
    "t = np.linspace(0, t_max, n+1)\n",
    "index_list = np.linspace(0, n-1, n, dtype=int)\n"
   ]
  },
  {
   "cell_type": "markdown",
   "id": "0153d99e-82ef-4c63-8478-a46bf9bf2550",
   "metadata": {
    "slideshow": {
     "slide_type": "slide"
    }
   },
   "source": [
    "## Solving"
   ]
  },
  {
   "cell_type": "code",
   "execution_count": 4,
   "id": "b9a97349-ccec-4d28-bf9c-e1cd897a4508",
   "metadata": {
    "tags": []
   },
   "outputs": [],
   "source": [
    "v = [v0]\n",
    "vk = v0\n",
    "\n",
    "for k in index_list:\n",
    "    vk_plus_1 = -dt*g + vk\n",
    "    v.append(vk_plus_1)\n",
    "    vk = vk_plus_1\n"
   ]
  },
  {
   "cell_type": "markdown",
   "id": "bf4377e0-a15b-4d46-955e-1a2e1a0d8661",
   "metadata": {
    "slideshow": {
     "slide_type": "slide"
    }
   },
   "source": [
    "## Postprocessing"
   ]
  },
  {
   "cell_type": "code",
   "execution_count": 5,
   "id": "bd14ee1b-7cd1-42ba-8713-3ee46500e85b",
   "metadata": {
    "slideshow": {
     "slide_type": "-"
    },
    "tags": []
   },
   "outputs": [
    {
     "data": {
      "image/png": "[encoded data removed]",
      "text/plain": [
       "<Figure size 640x480 with 1 Axes>"
      ]
     },
     "metadata": {},
     "output_type": "display_data"
    }
   ],
   "source": [
    "scatter(t, v)\n",
    "plt.grid(True)"
   ]
  },
  {
   "cell_type": "markdown",
   "id": "38d6e151",
   "metadata": {
    "slideshow": {
     "slide_type": "slide"
    }
   },
   "source": [
    "### Vorzeichenwechsel der Geschwindigkeit"
   ]
  },
  {
   "cell_type": "code",
   "execution_count": 6,
   "id": "5287c10a-d1d5-41a3-b3aa-613af31f13ee",
   "metadata": {
    "slideshow": {
     "slide_type": "-"
    },
    "tags": []
   },
   "outputs": [
    {
     "data": {
      "text/plain": [
       "0.30000000000000004"
      ]
     },
     "execution_count": 6,
     "metadata": {},
     "output_type": "execute_result"
    }
   ],
   "source": [
    "index_min = np.argmin(abs(np.array(v)))\n",
    "t[index_min]"
   ]
  },
  {
   "cell_type": "markdown",
   "id": "205000cf",
   "metadata": {
    "slideshow": {
     "slide_type": "slide"
    }
   },
   "source": [
    "## Weg"
   ]
  },
  {
   "cell_type": "code",
   "execution_count": 7,
   "id": "576612f7-c6cf-4db6-81dd-b40d5e8a3f37",
   "metadata": {
    "tags": []
   },
   "outputs": [],
   "source": [
    "x = [x0]\n",
    "xk = x0\n",
    "for k, time in enumerate(np.linspace(0, n-1, n, dtype=int)):\n",
    "    xk_plus_1 = dt*v[k] + xk\n",
    "    x.append(xk_plus_1)\n",
    "    xk = xk_plus_1"
   ]
  },
  {
   "cell_type": "code",
   "execution_count": 8,
   "id": "b85dc22c-9352-468d-87f1-9bb280132b88",
   "metadata": {
    "slideshow": {
     "slide_type": "slide"
    },
    "tags": []
   },
   "outputs": [
    {
     "data": {
      "text/plain": [
       "<matplotlib.collections.PathCollection at 0x203b3dfee10>"
      ]
     },
     "execution_count": 8,
     "metadata": {},
     "output_type": "execute_result"
    },
    {
     "data": {
      "image/png": "[encoded data removed]",
      "text/plain": [
       "<Figure size 640x480 with 1 Axes>"
      ]
     },
     "metadata": {},
     "output_type": "display_data"
    }
   ],
   "source": [
    "scatter(t, x)"
   ]
  },
  {
   "cell_type": "code",
   "execution_count": 9,
   "id": "d552b903",
   "metadata": {
    "slideshow": {
     "slide_type": "skip"
    }
   },
   "outputs": [
    {
     "data": {
      "text/plain": [
       "0.4857"
      ]
     },
     "execution_count": 9,
     "metadata": {},
     "output_type": "execute_result"
    }
   ],
   "source": [
    "np.array(x).max()"
   ]
  }
 ],
 "metadata": {
  "celltoolbar": "Slideshow",
  "kernelspec": {
   "display_name": "Python 3 (ipykernel)",
   "language": "python",
   "name": "python3"
  },
  "language_info": {
   "codemirror_mode": {
    "name": "ipython",
    "version": 3
   },
   "file_extension": ".py",
   "mimetype": "text/x-python",
   "name": "python",
   "nbconvert_exporter": "python",
   "pygments_lexer": "ipython3",
   "version": "3.11.5"
  }
 },
 "nbformat": 4,
 "nbformat_minor": 5
}
